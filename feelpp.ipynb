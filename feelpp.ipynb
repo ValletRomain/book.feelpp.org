{
  "nbformat": 4,
  "nbformat_minor": 0,
  "metadata": {
    "colab": {
      "name": "feelpp.ipynb",
      "provenance": [],
      "authorship_tag": "ABX9TyPw5LLibTomrHfzORCi7+eO",
      "include_colab_link": true
    },
    "kernelspec": {
      "name": "python3",
      "display_name": "Python 3"
    }
  },
  "cells": [
    {
      "cell_type": "markdown",
      "metadata": {
        "id": "view-in-github",
        "colab_type": "text"
      },
      "source": [
        "<a href=\"https://colab.research.google.com/github/feelpp/book.feelpp.org/blob/master/feelpp.ipynb\" target=\"_parent\"><img src=\"https://colab.research.google.com/assets/colab-badge.svg\" alt=\"Open In Colab\"/></a>"
      ]
    },
    {
      "cell_type": "code",
      "metadata": {
        "id": "hmaekcuWFU2D",
        "outputId": "a09b9d7b-f49a-43c6-b4ee-1413704ed30c",
        "colab": {
          "base_uri": "https://localhost:8080/"
        }
      },
      "source": [
        "!echo \"deb https://dl.bintray.com/feelpp/ubuntu focal latest\" | tee -a /etc/apt/sources.list\n",
        "!wget -qO - https://bintray.com/user/downloadSubjectPublicKey?username=bintray | apt-key add -\n",
        "!apt update\n",
        "!apt install feelpp-quickstart feelpp-data"
      ],
      "execution_count": null,
      "outputs": [
        {
          "output_type": "stream",
          "text": [
            "deb https://dl.bintray.com/feelpp/ubuntu focal latest\n",
            "OK\n",
            "Ign:1 https://developer.download.nvidia.com/compute/cuda/repos/ubuntu1804/x86_64  InRelease\n",
            "Hit:2 https://cloud.r-project.org/bin/linux/ubuntu bionic-cran40/ InRelease\n",
            "Ign:3 https://developer.download.nvidia.com/compute/machine-learning/repos/ubuntu1804/x86_64  InRelease\n",
            "Hit:4 http://ppa.launchpad.net/c2d4u.team/c2d4u4.0+/ubuntu bionic InRelease\n",
            "Hit:5 https://developer.download.nvidia.com/compute/cuda/repos/ubuntu1804/x86_64  Release\n",
            "Hit:6 http://security.ubuntu.com/ubuntu bionic-security InRelease\n",
            "Hit:7 https://developer.download.nvidia.com/compute/machine-learning/repos/ubuntu1804/x86_64  Release\n",
            "Hit:8 http://archive.ubuntu.com/ubuntu bionic InRelease\n",
            "Hit:9 http://archive.ubuntu.com/ubuntu bionic-updates InRelease\n",
            "Hit:10 http://ppa.launchpad.net/graphics-drivers/ppa/ubuntu bionic InRelease\n",
            "Ign:11 https://dl.bintray.com/feelpp/ubuntu focal InRelease\n",
            "Hit:12 http://archive.ubuntu.com/ubuntu bionic-backports InRelease\n",
            "Get:13 https://dl.bintray.com/feelpp/ubuntu focal Release [5,278 B]\n",
            "Fetched 5,278 B in 2s (2,499 B/s)\n",
            "Reading package lists... Done\n",
            "Building dependency tree       \n",
            "Reading state information... Done\n",
            "40 packages can be upgraded. Run 'apt list --upgradable' to see them.\n",
            "W: Target Packages (latest/binary-amd64/Packages) is configured multiple times in /etc/apt/sources.list:51 and /etc/apt/sources.list:52\n",
            "W: Target Packages (latest/binary-all/Packages) is configured multiple times in /etc/apt/sources.list:51 and /etc/apt/sources.list:52\n",
            "W: Target Packages (latest/binary-amd64/Packages) is configured multiple times in /etc/apt/sources.list:51 and /etc/apt/sources.list:52\n",
            "W: Target Packages (latest/binary-all/Packages) is configured multiple times in /etc/apt/sources.list:51 and /etc/apt/sources.list:52\n",
            "Reading package lists... Done\n",
            "Building dependency tree       \n",
            "Reading state information... Done\n",
            "Some packages could not be installed. This may mean that you have\n",
            "requested an impossible situation or if you are using the unstable\n",
            "distribution that some required packages have not yet been created\n",
            "or been moved out of Incoming.\n",
            "The following information may help to resolve the situation:\n",
            "\n",
            "The following packages have unmet dependencies:\n",
            " feelpp-quickstart : Depends: libboost-atomic1.67.0 but it is not installable\n",
            "                     Depends: libboost-chrono1.67.0 but it is not installable\n",
            "                     Depends: libboost-date-time1.67.0 but it is not installable\n",
            "                     Depends: libboost-filesystem1.67.0 but it is not installable\n",
            "                     Depends: libboost-iostreams1.67.0 but it is not installable\n",
            "                     Depends: libboost-mpi1.67.0 but it is not installable\n",
            "                     Depends: libboost-program-options1.67.0 but it is not installable\n",
            "                     Depends: libboost-regex1.67.0-icu66 but it is not installable\n",
            "                     Depends: libboost-serialization1.67.0 but it is not installable\n",
            "                     Depends: libboost-system1.67.0 but it is not installable\n",
            "                     Depends: libboost-test1.67.0 but it is not installable\n",
            "                     Depends: libboost-thread1.67.0 but it is not installable\n",
            "                     Depends: libc6 (>= 2.29) but 2.27-3ubuntu1.2 is to be installed\n",
            "                     Depends: libfeelpp1 (= 0.109.0~alpha.1-1) but it is not going to be installed\n",
            "                     Depends: libgcc-s1 (>= 3.0) but it is not installable\n",
            "                     Depends: libgmsh4 but it is not installable\n",
            "                     Depends: libgsl23 (>= 2.5) but it is not going to be installed\n",
            "                     Depends: libhdf5-openmpi-103 (>= 1.8.13) but it is not installable\n",
            "                     Depends: libhypre (>= 2.18.2) but it is not installable\n",
            "                     Depends: libhypre (< 2.18.3) but it is not installable\n",
            "                     Depends: libmumps-5.2.1 (>= 5.2.1) but it is not installable\n",
            "                     Depends: libopenmpi3 (>= 4.0.3) but it is not installable\n",
            "                     Depends: libpetsc-real3.12 (>= 3.12.4+dfsg1) but it is not installable\n",
            "                     Depends: libptscotch-6.0 (>= 6.0.9) but it is not going to be installed\n",
            "                     Depends: libscalapack-openmpi2.1 (>= 2.1.0) but it is not installable\n",
            "                     Depends: libscotch-6.0 (>= 6.0.9) but it is not going to be installed\n",
            "                     Depends: libslepc-real3.12 (>= 3.12.2+dfsg1) but it is not installable\n",
            "                     Depends: libstdc++6 (>= 9) but 8.4.0-1ubuntu1~18.04 is to be installed\n",
            "                     Depends: libsuperlu-dist6 (>= 6.2.0+dfsg1) but it is not installable\n",
            "                     Depends: libsz2 (>= 1.0.4) but 0.3.2-2 is to be installed\n",
            "                     Recommends: feelpp-tools but it is not going to be installed\n",
            "W: Target Packages (latest/binary-amd64/Packages) is configured multiple times in /etc/apt/sources.list:51 and /etc/apt/sources.list:52\n",
            "W: Target Packages (latest/binary-all/Packages) is configured multiple times in /etc/apt/sources.list:51 and /etc/apt/sources.list:52\n",
            "E: Unable to correct problems, you have held broken packages.\n"
          ],
          "name": "stdout"
        }
      ]
    },
    {
      "cell_type": "code",
      "metadata": {
        "id": "8k6JHaa781n1",
        "outputId": "f7d6e004-16bc-4077-9765-aae29b132057",
        "colab": {
          "base_uri": "https://localhost:8080/"
        }
      },
      "source": [
        "!ls sample_data"
      ],
      "execution_count": 2,
      "outputs": [
        {
          "output_type": "stream",
          "text": [
            "anscombe.json\t\t      mnist_test.csv\n",
            "california_housing_test.csv   mnist_train_small.csv\n",
            "california_housing_train.csv  README.md\n"
          ],
          "name": "stdout"
        }
      ]
    }
  ]
}